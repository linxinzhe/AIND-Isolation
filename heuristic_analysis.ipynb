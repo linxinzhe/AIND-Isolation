{
 "cells": [
  {
   "cell_type": "markdown",
   "metadata": {
    "collapsed": true
   },
   "source": [
    "                        *************************                         \n",
    "                             Playing Matches                              \n",
    "                        *************************                         \n",
    "\n",
    " Match #   Opponent    AB_Improved   AB_Custom   AB_Custom_2  AB_Custom_3 \n",
    "                        Won | Lost   Won | Lost   Won | Lost   Won | Lost \n",
    "    1       Random       8  |   2     8  |   2     8  |   2     6  |   4  \n",
    "    2       MM_Open      6  |   4     8  |   2     7  |   3     5  |   5  \n",
    "    3      MM_Center     8  |   2     6  |   4     6  |   4     8  |   2  \n",
    "    4     MM_Improved    6  |   4     4  |   6     6  |   4     7  |   3  \n",
    "    5       AB_Open      8  |   2     6  |   4     4  |   6     3  |   7  \n",
    "    6      AB_Center     7  |   3     6  |   4     4  |   6     4  |   6  \n",
    "    7     AB_Improved    5  |   5     4  |   6     4  |   6     2  |   8  \n",
    "--------------------------------------------------------------------------\n",
    "           Win Rate:      68.6%        60.0%        55.7%        50.0%    "
   ]
  },
  {
   "cell_type": "code",
   "execution_count": null,
   "metadata": {},
   "outputs": [],
   "source": [
    ""
   ]
  }
 ],
 "metadata": {
  "kernelspec": {
   "display_name": "Python 2",
   "language": "python",
   "name": "python2"
  },
  "language_info": {
   "codemirror_mode": {
    "name": "ipython",
    "version": 2.0
   },
   "file_extension": ".py",
   "mimetype": "text/x-python",
   "name": "python",
   "nbconvert_exporter": "python",
   "pygments_lexer": "ipython2",
   "version": "2.7.6"
  }
 },
 "nbformat": 4,
 "nbformat_minor": 0
}